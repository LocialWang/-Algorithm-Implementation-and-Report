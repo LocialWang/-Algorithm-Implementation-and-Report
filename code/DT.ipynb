{
 "cells": [
  {
   "cell_type": "code",
   "execution_count": 12,
   "metadata": {},
   "outputs": [],
   "source": [
    "from collections import Counter\n",
    "import math\n",
    "import random"
   ]
  },
  {
   "cell_type": "code",
   "execution_count": 13,
   "metadata": {},
   "outputs": [],
   "source": [
    "# Define each object as a class\n",
    "class Object:\n",
    "    def __init__(self, category, values):\n",
    "        self.category = category\n",
    "        self.values = values"
   ]
  },
  {
   "cell_type": "code",
   "execution_count": 14,
   "metadata": {},
   "outputs": [],
   "source": [
    "# Define each node in decision tree as a class\n",
    "class Node:\n",
    "    def __init__(self, name):\n",
    "        self.name = name\n",
    "        self.childDictionary = {}"
   ]
  },
  {
   "cell_type": "code",
   "execution_count": 15,
   "metadata": {},
   "outputs": [],
   "source": [
    "# Define entropy values\n",
    "def entropy(objectList):\n",
    "    entropy = 0\n",
    "    for category in yLabels:\n",
    "        count = 0\n",
    "        for x in objectList:\n",
    "            if x.category == category:\n",
    "                count += 1\n",
    "        frequency = count/len(objectList) # Count the frequency of categories\n",
    "        if frequency != 0:\n",
    "            entropy -= (frequency * math.log(frequency,2)) # Compute Entropy\n",
    "    return entropy"
   ]
  },
  {
   "cell_type": "code",
   "execution_count": 16,
   "metadata": {},
   "outputs": [],
   "source": [
    "# Define information gain\n",
    "def gain(S,A):\n",
    "    gain = entropy(S) # Compute entropy before splitting\n",
    "    setOfValues = set([x.values.get(A) for x in S])\n",
    "    for value in setOfValues:\n",
    "        l = []\n",
    "        for x in S:\n",
    "            if x.values.get(A) == value:\n",
    "                l.append(x)\n",
    "        gain -= (len(l)/len(S) * entropy(l)) # Compute information gain after splitting\n",
    "                    \n",
    "    return gain"
   ]
  },
  {
   "cell_type": "code",
   "execution_count": 17,
   "metadata": {},
   "outputs": [],
   "source": [
    "# Create Decision tree based on information gain\n",
    "def createDecisionTree(objectList, attributeList):\n",
    "    objectCategory = []\n",
    "    for x in objectList:\n",
    "        objectCategory.append(x.category)\n",
    "    categoryFrequency = Counter(objectCategory)   # Count frequency of categories\n",
    "    \n",
    "    if len(categoryFrequency) == 1 or len(attributeList) == 0:\n",
    "        return Node(categoryFrequency.most_common(1)[0][0])\n",
    "    \n",
    "    greatestGain = 0\n",
    "    greatestA = None\n",
    "    for attribute in attributeList: # Calculate information gain for all attributes\n",
    "        g = gain(objectList, attribute)\n",
    "        if g >= greatestGain:\n",
    "            greatestGain = g\n",
    "            greatestA = attribute   # Select the attribute with maximum information gain\n",
    "    newNode = Node(greatestA)    # Create new nodes based on the attributes with maximum information gain\n",
    "    setOfValues = set([x.values.get(greatestA) for x in objectList])\n",
    "    attributeList.remove(greatestA)  # remove used attribute from the dataset\n",
    "    \n",
    "    for value in setOfValues:\n",
    "        newObjectList = []\n",
    "        for x in objectList:\n",
    "            if x.values.get(greatestA) == value:\n",
    "                newObjectList.append(x)    # split the dataset into subset\n",
    "                \n",
    "        if len(newObjectList) == 0:\n",
    "            newNode.name = categoryFrequency.most_common(1)[0][0]\n",
    "            return newNode   # If all objects are leaf nodes,stop the ID3\n",
    "        \n",
    "        newNode.childDictionary[value] = createDecisionTree(newObjectList, attributeList) # group all nodes to create the decision tree\n",
    "        \n",
    "    return newNode"
   ]
  },
  {
   "cell_type": "code",
   "execution_count": 18,
   "metadata": {},
   "outputs": [],
   "source": [
    "# Calculate accuracy from testing data\n",
    "def accuracy(objectList, root):\n",
    "    count = 0\n",
    "    for x in objectList:\n",
    "       if testNode(x, root) == True:\n",
    "            count +=1                        # Count the correct prediction\n",
    "    accuracy = count/len(objectList) * 100   # Compute prediction accuracy\n",
    "    accuracy = round(accuracy,4)\n",
    "    \n",
    "    return accuracy"
   ]
  },
  {
   "cell_type": "code",
   "execution_count": 19,
   "metadata": {},
   "outputs": [],
   "source": [
    "# Check category in each node\n",
    "def testNode(obj, node):\n",
    "    if obj.values[node.name] not in node.childDictionary:\n",
    "        return False\n",
    "    node = node.childDictionary[obj.values[node.name]]\n",
    "    if len(node.childDictionary) == 0:\n",
    "        if node.name == obj.category:\n",
    "            return True\n",
    "        else:\n",
    "            return False\n",
    "    return testNode(obj, node)"
   ]
  },
  {
   "cell_type": "code",
   "execution_count": 20,
   "metadata": {},
   "outputs": [],
   "source": [
    "# Read in a file, attributes, objects, headers\n",
    "def readFile(filename):\n",
    "    objects, yLables = [],[]\n",
    "    inputFile = open(filename, \"r\")\n",
    "    attributes = inputFile.readline().strip().split(\",\") # Read in attributes\n",
    "    \n",
    "    for line in inputFile:\n",
    "        line = line.strip().split(\",\")\n",
    "        objects.append(line)     # gather all objects in the file\n",
    "    \n",
    "    random.shuffle(objects)\n",
    "    yLabels = set([x[0] for x in objects])  # Read in y labels\n",
    "    return attributes, objects, yLabels"
   ]
  },
  {
   "cell_type": "code",
   "execution_count": 21,
   "metadata": {},
   "outputs": [],
   "source": [
    "# Split the whole dataset into training set and testing set based on train_test_ratio\n",
    "def TrainTestSplit(objects,TrainTestRatio):\n",
    "    if TrainTestRatio > 0.9999 or TrainTestRatio < 0.0001:\n",
    "        print(\"Invalid Ratio\")\n",
    "        return False\n",
    "    \n",
    "    numberOfTraining = int(len(objects) * (TrainTestRatio))\n",
    "    trainingData,testingData = [],[]\n",
    "    count = 0\n",
    "    for obj in objects:\n",
    "        values = {}\n",
    "        for num in range(1, len(attributes)):\n",
    "            values[attributes[num]] = obj[num]            \n",
    "        if count < numberOfTraining:\n",
    "            trainingData.append(Object(obj[0], values))   # collect objects in training set\n",
    "        else:\n",
    "            testingData.append(Object(obj[0], values))    # collect objects in testing set\n",
    "        count += 1\n",
    "    \n",
    "    return trainingData,testingData"
   ]
  },
  {
   "cell_type": "code",
   "execution_count": 22,
   "metadata": {},
   "outputs": [
    {
     "name": "stdout",
     "output_type": "stream",
     "text": [
      "The total number of objects: 24\n",
      "The number of training objects: 12\n",
      "The number of testing objects: 12\n",
      "The Testing Accuracy is 91.6667%\n"
     ]
    }
   ],
   "source": [
    "attributes, objects, yLabels = readFile(\"data.txt\")\n",
    "\n",
    "trainingData,testingData = TrainTestSplit(objects,0.5)\n",
    "\n",
    "print(\"The total number of objects: \"+ str(len(objects)))\n",
    "print(\"The number of training objects: \" + str(len(trainingData)))\n",
    "print(\"The number of testing objects: \" + str(len(testingData)))\n",
    "\n",
    "decisionTree = createDecisionTree(trainingData, attributes[1:])\n",
    "acc = accuracy(testingData, decisionTree)\n",
    "\n",
    "print(\"The Testing Accuracy is \" + str(acc) + \"%\")"
   ]
  },
  {
   "cell_type": "code",
   "execution_count": null,
   "metadata": {},
   "outputs": [],
   "source": []
  }
 ],
 "metadata": {
  "kernelspec": {
   "display_name": "Python 3",
   "language": "python",
   "name": "python3"
  },
  "language_info": {
   "codemirror_mode": {
    "name": "ipython",
    "version": 3
   },
   "file_extension": ".py",
   "mimetype": "text/x-python",
   "name": "python",
   "nbconvert_exporter": "python",
   "pygments_lexer": "ipython3",
   "version": "3.8.3"
  }
 },
 "nbformat": 4,
 "nbformat_minor": 4
}
